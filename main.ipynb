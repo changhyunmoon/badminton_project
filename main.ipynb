{
 "cells": [
  {
   "cell_type": "code",
   "execution_count": 2,
   "metadata": {},
   "outputs": [],
   "source": [
    "import os\n",
    "import pandas as pd\n",
    "from matplotlib import pyplot as plt\n",
    "import cv2\n",
    "\n",
    "import get_data\n",
    "import utils"
   ]
  },
  {
   "cell_type": "code",
   "execution_count": 3,
   "metadata": {},
   "outputs": [],
   "source": [
    "YOUTUBE_DOWNLOAD_PATH = 'C:\\\\Users\\\\창현\\\\Desktop\\\\project\\\\3-27\\\\data\\\\youtube-video'\n",
    "#YOUTUBE_DOWNLOAD_PATH = 'C:\\\\Users\\\\창현\\\\Desktop\\\\개인프로젝트\\\\3-24\\\\data\\\\youtube-video' <- desktop용 경로\n",
    "youtube_urls = [\n",
    "    'https://www.youtube.com/watch?v=LpHRRbqZk9E',\n",
    "    'https://www.youtube.com/watch?v=lANGeIFmsVQ',\n",
    "    'https://www.youtube.com/watch?v=mn7RMgVGF_Y',\n",
    "    'https://www.youtube.com/watch?v=A4sGlJH5Hd4',\n",
    "    'https://www.youtube.com/watch?v=BqNvllZRUPo',\n",
    "    'https://www.youtube.com/watch?v=Zbzdip2XjtE',\n",
    "    'https://www.youtube.com/watch?v=tbJ1mp9JqZ4',\n",
    "    'https://www.youtube.com/watch?v=CUpVzDUcv8k',\n",
    "    'https://www.youtube.com/watch?v=59BeEz4WSG8',\n",
    "    'https://www.youtube.com/watch?v=biwNJXj2ggw',\n",
    "    'https://www.youtube.com/watch?v=cPVNj6PJyCE',\n",
    "    'https://www.youtube.com/watch?v=SHYv1BYXTTc',\n",
    "    \n",
    "\n",
    "]\n",
    "#get_data.download_data(youtube_urls, YOUTUBE_DOWNLOAD_PATH)"
   ]
  },
  {
   "cell_type": "code",
   "execution_count": 4,
   "metadata": {},
   "outputs": [],
   "source": [
    "FRAME_SAVE_PATH = 'C:\\\\Users\\\\창현\\\\Desktop\\\\project\\\\3-27\\\\data\\\\frame-data'\n",
    "#get_data.get_franme_from_youtube_video(YOUTUBE_DOWNLOAD_PATH, FRAME_SAVE_PATH, 3)#각 영상의 프레임을 3분마다 포인트 추출"
   ]
  },
  {
   "cell_type": "code",
   "execution_count": 5,
   "metadata": {},
   "outputs": [
    {
     "name": "stdout",
     "output_type": "stream",
     "text": [
      "(360, 640, 3)\n",
      "(360, 640, 3)\n",
      "(360, 640, 3)\n",
      "(360, 640, 3)\n"
     ]
    }
   ],
   "source": [
    "#프레임들의 크기 확인\n",
    "img1 = utils._imread(os.path.join(FRAME_SAVE_PATH,'frame1_1.jpg'))\n",
    "img2 = utils._imread(os.path.join(FRAME_SAVE_PATH,'frame2_1.jpg'))\n",
    "img3 = utils._imread(os.path.join(FRAME_SAVE_PATH,'frame3_1.jpg'))\n",
    "img4 = utils._imread(os.path.join(FRAME_SAVE_PATH,'frame4_1.jpg'))\n",
    "\n",
    "print(img1.shape)\n",
    "print(img2.shape)\n",
    "print(img3.shape)\n",
    "print(img4.shape)\n",
    "# plt.imshow(img)\n",
    "# plt.show()"
   ]
  },
  {
   "cell_type": "code",
   "execution_count": 6,
   "metadata": {},
   "outputs": [],
   "source": [
    "CSV_PATH = 'C:\\\\Users\\\\창현\\\\Desktop\\\\project\\\\3-27\\\\data\\\\cnn.csv'\n",
    "#get_data.make_CSV_file(CSV_PATH) #이 함수 수행하면 기존에 있던 csv파일이 삭제되니깐 주의\n",
    "#get_data.get_point(CSV_PATH, FRAME_SAVE_PATH)"
   ]
  }
 ],
 "metadata": {
  "kernelspec": {
   "display_name": "Python 3",
   "language": "python",
   "name": "python3"
  },
  "language_info": {
   "codemirror_mode": {
    "name": "ipython",
    "version": 3
   },
   "file_extension": ".py",
   "mimetype": "text/x-python",
   "name": "python",
   "nbconvert_exporter": "python",
   "pygments_lexer": "ipython3",
   "version": "3.12.2"
  }
 },
 "nbformat": 4,
 "nbformat_minor": 2
}
